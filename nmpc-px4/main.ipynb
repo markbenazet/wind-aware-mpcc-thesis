{
 "cells": [
  {
   "cell_type": "code",
   "execution_count": 1,
   "metadata": {},
   "outputs": [],
   "source": [
    "from acados_settings import acados_settings\n",
    "from model.FW_lateral_model import FixedWingLateralModel\n",
    "import utils as u\n",
    "import numpy as np\n",
    "from Paths.curve import Path\n",
    "from Paths.waypoints import path_points"
   ]
  },
  {
   "cell_type": "code",
   "execution_count": 1,
   "metadata": {},
   "outputs": [],
   "source": [
    "def call_mpcc(previous_x, previous_u, ocp_solver, current_state, params, N_horizon):\n",
    "    # From an initial state x0 computes the optimal control input u_opt and the corresponding state trajectory \n",
    "\n",
    "    # Update MPC reference for all prediction steps\n",
    "    for idx in range(N_horizon):\n",
    "        ocp_solver.set(idx, 'x', previous_x[idx, :])\n",
    "        ocp_solver.set(idx, 'u', previous_u[idx, :])\n",
    "        ocp_solver.set(idx, 'p', params)\n",
    "\n",
    "    # Set initial state\n",
    "    ocp_solver.set(0, 'lbx', current_state)\n",
    "    ocp_solver.set(0, 'ubx', current_state)\n",
    "\n",
    "    # Solve MPC problem\n",
    "    status = ocp_solver.solve()\n",
    "    if status != 0:\n",
    "        raise Exception(f'acados returned status {status}.')\n",
    "\n",
    "    # Initialize matrices to store state and control trajectories\n",
    "    X = np.zeros((N_horizon, previous_x.shape[1]))  # Assuming previous_x.shape[1] is the state dimension\n",
    "    U = np.zeros((N_horizon, previous_u.shape[1]))  # Assuming previous_u.shape[1] is the control dimension\n",
    "\n",
    "    # Retrieve the state and control trajectories from the solver\n",
    "    for i in range(N_horizon):\n",
    "        X[i, :] = ocp_solver.get(i, 'x')\n",
    "        U[i, :] = ocp_solver.get(i, 'u')\n",
    "\n",
    "    return X, U  # state and input for all the horizon (matrix)"
   ]
  },
  {
   "cell_type": "code",
   "execution_count": null,
   "metadata": {},
   "outputs": [],
   "source": [
    "def warm_start(x0, ocp_solver, N_horizon, params):\n",
    "    # Warm start the solver to generate the first trajectory point\n",
    "    iter = 30\n",
    "    optimal_x = np.zeros((N_horizon, 6))\n",
    "    optimal_u = np.zeros((N_horizon, 4))\n",
    "    for idx in range(iter):\n",
    "        optimal_x, optimal_u = call_mpcc(optimal_x, optimal_u, ocp_solver, x0, params, N_horizon)\n",
    "\n",
    "    return optimal_x, optimal_u"
   ]
  },
  {
   "cell_type": "code",
   "execution_count": 5,
   "metadata": {},
   "outputs": [],
   "source": [
    "def main():\n",
    "    # Create model instance\n",
    "    model = FixedWingLateralModel()\n",
    "    path = Path(path_points)\n",
    "    # Initialize MPC solver\n",
    "    N_horizon = 20\n",
    "    Tf = 2.0\n",
    "    # Initial state for MPC solver\n",
    "    x0 = np.array([0.0, 0.0, 20.0, 0.0, 0.0, 0.0])  # initial state (x, y, V, yaw)\n",
    "    ocp_solver, acados_integrator, mpc_dt = acados_settings(model, N_horizon, Tf, x0, use_RTI=False)\n",
    "    # Lists to store state and input values for debugging\n",
    "    state_history = []\n",
    "    input_history = []\n",
    "    # Generate reference points using Path class\n",
    "    reference_history = path.spline_points\n",
    "    simulation_time = 0\n",
    "    max_simulation_time = 40.0\n",
    "\n",
    "    params = np.zeros(2)  # Adjust size if needed\n",
    "\n",
    "    current_state = x0.copy()  # Initialize current_state\n",
    "\n",
    "    optimal_x, optimal_u = warm_start(x0, ocp_solver, N_horizon, params)\n",
    "    print (\"Warm start done\")\n",
    "    print(\"Optimal x: \", optimal_x, \"Optimal u: \", optimal_u)\n",
    "\n",
    "\n",
    "    previous_x, previous_u = optimal_x, optimal_u\n",
    "\n",
    "    while simulation_time < max_simulation_time:\n",
    "        \n",
    "        x_opt, u_opt =  call_mpcc(previous_x, previous_u, ocp_solver, current_state, params, N_horizon)\n",
    "\n",
    "        previous_x = x_opt\n",
    "        previous_u = u_opt\n",
    "\n",
    "        apply_control_input = u_opt[0,:]\n",
    "        \n",
    "        # simulate fixed wing\n",
    "        current_state = acados_integrator.simulate(current_state, apply_control_input, mpc_dt)\n",
    "\n",
    "        state_history.append(current_state)\n",
    "        input_history.append(apply_control_input)\n",
    "        simulation_time += mpc_dt\n",
    "\n",
    "    u.plot_uav_trajectory_and_state(state_history, reference_history, input_history, params[:2])"
   ]
  }
 ],
 "metadata": {
  "kernelspec": {
   "display_name": "Python 3",
   "language": "python",
   "name": "python3"
  },
  "language_info": {
   "codemirror_mode": {
    "name": "ipython",
    "version": 3
   },
   "file_extension": ".py",
   "mimetype": "text/x-python",
   "name": "python",
   "nbconvert_exporter": "python",
   "pygments_lexer": "ipython3",
   "version": "3.10.12"
  }
 },
 "nbformat": 4,
 "nbformat_minor": 2
}
